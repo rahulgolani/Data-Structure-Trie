{
 "cells": [
  {
   "cell_type": "markdown",
   "metadata": {},
   "source": [
    "Trie is an efficient information reTrieval data structure. Using Trie, search complexities can be brought to optimal limit (key length). If we store keys in binary search tree, a well balanced BST will need time proportional to M * log N, where M is maximum string length and N is number of keys in tree. Using Trie, we can search the key in O(M) time. However the penalty is on Trie storage requirements"
   ]
  },
  {
   "cell_type": "markdown",
   "metadata": {},
   "source": [
    "Every node of Trie consists of multiple branches. Each branch represents a possible character of keys. We need to mark the last node of every key as end of word node. A Trie node field isEndOfWord is used to distinguish the node as end of word node."
   ]
  },
  {
   "cell_type": "markdown",
   "metadata": {},
   "source": [
    "Inserting a key into Trie is a simple approach. Every character of the input key is inserted as an individual Trie node. Note that the children is an array of pointers (or references) to next level trie nodes. The key character acts as an index into the array children. If the input key is new or an extension of the existing key, we need to construct non-existing nodes of the key, and mark end of the word for the last node. If the input key is a prefix of the existing key in Trie, we simply mark the last node of the key as the end of a word. The key length determines Trie depth."
   ]
  },
  {
   "cell_type": "markdown",
   "metadata": {},
   "source": [
    "Searching for a key is similar to insert operation, however, we only compare the characters and move down. The search can terminate due to the end of a string or lack of key in the trie. In the former case, if the isEndofWord field of the last node is true, then the key exists in the trie. In the second case, the search terminates without examining all the characters of the key, since the key is not present in the trie."
   ]
  },
  {
   "cell_type": "markdown",
   "metadata": {},
   "source": [
    "<strong>Insert and search costs O(key_length), however the memory requirements of Trie is O(ALPHABET_SIZE * key_length * N) where N is number of keys in Trie.</strong>"
   ]
  },
  {
   "cell_type": "markdown",
   "metadata": {},
   "source": [
    "# Trie | (Insert and Search)"
   ]
  },
  {
   "cell_type": "code",
   "execution_count": 1,
   "metadata": {},
   "outputs": [
    {
     "name": "stdout",
     "output_type": "stream",
     "text": [
      "True\n",
      "False\n",
      "True\n",
      "False\n"
     ]
    }
   ],
   "source": [
    "class TrieNode:\n",
    "    def __init__(self):\n",
    "        self.children=[None]*26\n",
    "        self.isEndOfWord=False\n",
    "\n",
    "class Trie:\n",
    "    def __init__(self):\n",
    "        self.root=self.getTrieNode()\n",
    "\n",
    "    def getTrieNode(self):\n",
    "        return TrieNode()\n",
    "\n",
    "    def getIndex(self,ch):\n",
    "        return ord(ch)-ord('a')\n",
    "\n",
    "    def insert(self,key):\n",
    "        root=self.root\n",
    "        l=len(key)\n",
    "        for i in range(l):\n",
    "            index=self.getIndex(key[i])\n",
    "            if not root.children[index]:\n",
    "                root.children[index]=self.getTrieNode()\n",
    "            root=root.children[index]\n",
    "        root.isEndOfWord=True\n",
    "\n",
    "    def searchNode(self,key):\n",
    "        root=self.root\n",
    "        l=len(key)\n",
    "        for i in range(l):\n",
    "            index=self.getIndex(key[i])\n",
    "            if not root.children[index]:\n",
    "                return False\n",
    "            root=root.children[index]\n",
    "        return root!=None and root.isEndOfWord\n",
    "\n",
    "if __name__ == '__main__':\n",
    "    keys=[\"the\",\"a\",\"there\",\"anaswe\",\"any\",\n",
    "            \"by\",\"their\"]\n",
    "    t=Trie()\n",
    "    for key in keys:\n",
    "        t.insert(key)\n",
    "    keysForSearch=['the','these','their','thaw']\n",
    "    for key in keysForSearch:\n",
    "        print(t.searchNode(key))\n"
   ]
  },
  {
   "cell_type": "markdown",
   "metadata": {},
   "source": [
    "# Trie | (Delete)"
   ]
  },
  {
   "cell_type": "markdown",
   "metadata": {},
   "source": [
    "During delete operation we delete the key in bottom up manner using recursion. The following are possible conditions when deleting key from trie, \n",
    "\n",
    "Key may not be there in trie. Delete operation should not modify trie.\n",
    "\n",
    "Key present as unique key (no part of key contains another key (prefix), nor the key itself is prefix of another key in trie). Delete all the nodes.\n",
    "\n",
    "Key is prefix key of another long key in trie. Unmark the leaf node.\n",
    "\n",
    "Key present in trie, having atleast one other key as prefix key. Delete nodes from end of key until first leaf node of longest prefix key."
   ]
  },
  {
   "cell_type": "code",
   "execution_count": 1,
   "metadata": {},
   "outputs": [
    {
     "name": "stdout",
     "output_type": "stream",
     "text": [
      "the -> True\n",
      "a -> True\n",
      "there -> True\n",
      "bye -> True\n",
      "anaswe -> True\n",
      "any -> True\n",
      "by -> True\n",
      "their -> True\n",
      "cat -> True\n",
      "\n",
      "the -> True\n",
      "a -> True\n",
      "there -> True\n",
      "bye -> True\n",
      "anaswe -> True\n",
      "any -> True\n",
      "by -> True\n",
      "their -> True\n",
      "cat -> False\n",
      "\n",
      "the -> True\n",
      "a -> True\n",
      "there -> True\n",
      "bye -> True\n",
      "anaswe -> True\n",
      "any -> True\n",
      "by -> True\n",
      "their -> True\n",
      "cat -> False\n",
      "\n",
      "the -> True\n",
      "a -> True\n",
      "there -> True\n",
      "bye -> True\n",
      "anaswe -> True\n",
      "any -> True\n",
      "by -> False\n",
      "their -> True\n",
      "cat -> False\n",
      "\n",
      "the -> True\n",
      "a -> True\n",
      "there -> False\n",
      "bye -> True\n",
      "anaswe -> True\n",
      "any -> True\n",
      "by -> False\n",
      "their -> True\n",
      "cat -> False\n",
      "\n"
     ]
    }
   ],
   "source": [
    "class TrieNode:\n",
    "    def __init__(self):\n",
    "        self.children=[None]*26\n",
    "        self.isEndOfWord=False\n",
    "\n",
    "class Trie:\n",
    "    def __init__(self):\n",
    "        self.root=self.getTrieNode()\n",
    "\n",
    "    def getTrieNode(self):\n",
    "        return TrieNode()\n",
    "\n",
    "    def getIndex(self,ch):\n",
    "        return ord(ch)-ord('a')\n",
    "\n",
    "    def insert(self,key):\n",
    "        root=self.root\n",
    "        l=len(key)\n",
    "        for i in range(l):\n",
    "            index=self.getIndex(key[i])\n",
    "            if not root.children[index]:\n",
    "                root.children[index]=self.getTrieNode()\n",
    "            root=root.children[index]\n",
    "        root.isEndOfWord=True\n",
    "\n",
    "    def searchNode(self,key):\n",
    "        root=self.root\n",
    "        l=len(key)\n",
    "        for i in range(l):\n",
    "            index=self.getIndex(key[i])\n",
    "            if not root.children[index]:\n",
    "                return False\n",
    "            root=root.children[index]\n",
    "        return root!=None and root.isEndOfWord\n",
    "\n",
    "    def isEmpty(self,root):\n",
    "        for i in range(26):\n",
    "            if root.children[i]!=None:\n",
    "                return False\n",
    "        return True\n",
    "\n",
    "    def deleteKey(self,root,key,depth):\n",
    "        if root is None:\n",
    "            return None\n",
    "\n",
    "        if depth==len(key):\n",
    "            if root.isEndOfWord:\n",
    "                root.isEndOfWord=False\n",
    "            if self.isEmpty(root):\n",
    "                root=None\n",
    "            return root\n",
    "\n",
    "        index=self.getIndex(key[depth])\n",
    "        root.children[index]=self.deleteKey(root.children[index],key,depth+1)\n",
    "\n",
    "        if self.isEmpty(root) and root.isEndOfWord==False:\n",
    "            root=None\n",
    "        return root\n",
    "\n",
    "\n",
    "if __name__ == '__main__':\n",
    "    trie=Trie()\n",
    "    keys=[\"the\",\"a\",\"there\",\"bye\",\"anaswe\",\"any\",\"by\",\"their\",\"cat\"]\n",
    "    for key in keys:\n",
    "        trie.insert(key)\n",
    "    for key in keys:\n",
    "        print(f\"{key} -> {trie.searchNode(key)}\")\n",
    "    print()\n",
    "    trie.deleteKey(trie.root, \"cat\", 0)\n",
    "    for key in keys:\n",
    "        print(f\"{key} -> {trie.searchNode(key)}\")\n",
    "    print()\n",
    "    trie.deleteKey(trie.root, \"thy\", 0)\n",
    "    for key in keys:\n",
    "        print(f\"{key} -> {trie.searchNode(key)}\")\n",
    "    print()\n",
    "    trie.deleteKey(trie.root, \"by\", 0)\n",
    "    for key in keys:\n",
    "        print(f\"{key} -> {trie.searchNode(key)}\")\n",
    "    print()\n",
    "    trie.deleteKey(trie.root, \"there\", 0)\n",
    "    for key in keys:\n",
    "        print(f\"{key} -> {trie.searchNode(key)}\")\n",
    "    print()\n"
   ]
  },
  {
   "cell_type": "markdown",
   "metadata": {},
   "source": [
    "# Count Number of Strings with given Prefix"
   ]
  },
  {
   "cell_type": "markdown",
   "metadata": {},
   "source": [
    "Maintain a prefix Count inside the Trie Node"
   ]
  },
  {
   "cell_type": "code",
   "execution_count": 2,
   "metadata": {},
   "outputs": [
    {
     "name": "stdout",
     "output_type": "stream",
     "text": [
      "Prefixes with ab are 3\n",
      "Prefixes with aba are 3\n",
      "Prefixes with abaa are 1\n",
      "Prefixes with ac are 0\n",
      "Prefixes with aa are 2\n"
     ]
    }
   ],
   "source": [
    "class TrieNode:\n",
    "    def __init__(self):\n",
    "        self.children=[None]*26\n",
    "        self.pc=1\n",
    "\n",
    "class Trie:\n",
    "    def __init__(self):\n",
    "        self.root=self.getTrieNode()\n",
    "\n",
    "    def getTrieNode(self):\n",
    "        return TrieNode()\n",
    "\n",
    "    def getIndex(self,ch):\n",
    "        return ord(ch)-ord('a')\n",
    "\n",
    "    def insert(self,key):\n",
    "        root=self.root\n",
    "        l=len(key)\n",
    "        for i in range(l):\n",
    "            index=self.getIndex(key[i])\n",
    "            if not root.children[index]:\n",
    "                root.children[index]=self.getTrieNode()\n",
    "            else:\n",
    "                root.children[index].pc+=1\n",
    "            root=root.children[index]\n",
    "\n",
    "    def getPrefixCount(self,prefix):\n",
    "        root=self.root\n",
    "        l=len(prefix)\n",
    "        for i in range(l):\n",
    "            index=self.getIndex(prefix[i])\n",
    "            if not root.children[index]:\n",
    "                return 0\n",
    "            root=root.children[index]\n",
    "        return root.pc\n",
    "\n",
    "if __name__ == '__main__':\n",
    "    keys=['abac','abaa','abab','aabb','aabc']\n",
    "    t=Trie()\n",
    "    for key in keys:\n",
    "        t.insert(key)\n",
    "    prefixes=['ab','aba','abaa','ac','aa']\n",
    "    for i in prefixes:\n",
    "        print(f\"Prefixes with {i} are {t.getPrefixCount(i)}\")\n"
   ]
  },
  {
   "cell_type": "markdown",
   "metadata": {},
   "source": [
    "# Longest prefix matching"
   ]
  },
  {
   "cell_type": "code",
   "execution_count": 3,
   "metadata": {},
   "outputs": [
    {
     "name": "stdout",
     "output_type": "stream",
     "text": [
      "base\n"
     ]
    }
   ],
   "source": [
    "class TrieNode:\n",
    "    def __init__(self):\n",
    "        self.children=[None]*26\n",
    "        self.isEndOfWord=False\n",
    "\n",
    "class Trie:\n",
    "    def __init__(self):\n",
    "        self.root=self.getTrieNode()\n",
    "\n",
    "    def getTrieNode(self):\n",
    "        return TrieNode()\n",
    "\n",
    "    def getIndex(self,ch):\n",
    "        return ord(ch)-ord('a')\n",
    "\n",
    "    def insert(self,key):\n",
    "        root=self.root\n",
    "        l=len(key)\n",
    "        for i in range(l):\n",
    "            index=self.getIndex(key[i])\n",
    "            if not root.children[index]:\n",
    "                root.children[index]=self.getTrieNode()\n",
    "            root=root.children[index]\n",
    "        root.isEndOfWord=True\n",
    "\n",
    "    def getLongestPrefix(self,word):\n",
    "        root=self.root\n",
    "        l=len(word)\n",
    "        result=\"\"\n",
    "        curr=\"\"\n",
    "        for i in range(l):\n",
    "            index=self.getIndex(word[i])\n",
    "            if not root.children[index]:\n",
    "                break\n",
    "            else:\n",
    "                curr+=word[i]\n",
    "                if root.children[index].isEndOfWord:\n",
    "                    result=curr\n",
    "            root=root.children[index]\n",
    "        return result if result else \"No Prefix Found\"\n",
    "\n",
    "if __name__ == '__main__':\n",
    "    keys=['are','area','base','cat','cater','children','basement']\n",
    "    t=Trie()\n",
    "    for key in keys:\n",
    "        t.insert(key)\n",
    "    word=\"basemexy\"\n",
    "    # word=\"caterer\"\n",
    "    # word=\"child\"\n",
    "    print(t.getLongestPrefix(word))\n"
   ]
  },
  {
   "cell_type": "markdown",
   "metadata": {},
   "source": [
    "# Find shortest unique prefix for every word in a given list"
   ]
  },
  {
   "cell_type": "code",
   "execution_count": 4,
   "metadata": {},
   "outputs": [
    {
     "name": "stdout",
     "output_type": "stream",
     "text": [
      "Unique Prefix for zebra is z\n",
      "Unique Prefix for dog is dog\n",
      "Unique Prefix for duck is du\n",
      "Unique Prefix for dove is dov\n"
     ]
    }
   ],
   "source": [
    "class TrieNode:\n",
    "    def __init__(self):\n",
    "        self.children=[None]*26\n",
    "        self.pc=1\n",
    "\n",
    "class Trie:\n",
    "    def __init__(self):\n",
    "        self.root=self.getTrieNode()\n",
    "\n",
    "    def getTrieNode(self):\n",
    "        return TrieNode()\n",
    "\n",
    "    def getIndex(self,ch):\n",
    "        return ord(ch)-ord('a')\n",
    "\n",
    "    def insert(self,key):\n",
    "        root=self.root\n",
    "        l=len(key)\n",
    "        for i in range(l):\n",
    "            index=self.getIndex(key[i])\n",
    "            if not root.children[index]:\n",
    "                root.children[index]=self.getTrieNode()\n",
    "            else:\n",
    "                root.children[index].pc+=1\n",
    "            root=root.children[index]\n",
    "\n",
    "    def getShortestUniquePrefix(self,key):\n",
    "        root=self.root\n",
    "        l=len(key)\n",
    "        currPrefix=\"\"\n",
    "        for i in range(l):\n",
    "            index=self.getIndex(key[i])\n",
    "            if not root.children[index]:\n",
    "                return None\n",
    "            else:\n",
    "                currPrefix+=key[i]\n",
    "                if root.children[index].pc==1:\n",
    "                    return currPrefix\n",
    "            root=root.children[index]\n",
    "\n",
    "if __name__ == '__main__':\n",
    "    trie=Trie()\n",
    "    keys=[\"zebra\",\"dog\",\"duck\",\"dove\"]\n",
    "    for key in keys:\n",
    "        trie.insert(key)\n",
    "    for key in keys:\n",
    "        print(f\"Unique Prefix for {key} is {trie.getShortestUniquePrefix(key)}\")\n"
   ]
  },
  {
   "cell_type": "code",
   "execution_count": null,
   "metadata": {},
   "outputs": [],
   "source": []
  }
 ],
 "metadata": {
  "kernelspec": {
   "display_name": "Python 3",
   "language": "python",
   "name": "python3"
  },
  "language_info": {
   "codemirror_mode": {
    "name": "ipython",
    "version": 3
   },
   "file_extension": ".py",
   "mimetype": "text/x-python",
   "name": "python",
   "nbconvert_exporter": "python",
   "pygments_lexer": "ipython3",
   "version": "3.7.6"
  }
 },
 "nbformat": 4,
 "nbformat_minor": 4
}

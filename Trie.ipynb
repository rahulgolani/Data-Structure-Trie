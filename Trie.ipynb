{
 "cells": [
  {
   "cell_type": "markdown",
   "metadata": {},
   "source": [
    "Trie is an efficient information reTrieval data structure. Using Trie, search complexities can be brought to optimal limit (key length). If we store keys in binary search tree, a well balanced BST will need time proportional to M * log N, where M is maximum string length and N is number of keys in tree. Using Trie, we can search the key in O(M) time. However the penalty is on Trie storage requirements"
   ]
  },
  {
   "cell_type": "markdown",
   "metadata": {},
   "source": [
    "Every node of Trie consists of multiple branches. Each branch represents a possible character of keys. We need to mark the last node of every key as end of word node. A Trie node field isEndOfWord is used to distinguish the node as end of word node."
   ]
  },
  {
   "cell_type": "markdown",
   "metadata": {},
   "source": [
    "Inserting a key into Trie is a simple approach. Every character of the input key is inserted as an individual Trie node. Note that the children is an array of pointers (or references) to next level trie nodes. The key character acts as an index into the array children. If the input key is new or an extension of the existing key, we need to construct non-existing nodes of the key, and mark end of the word for the last node. If the input key is a prefix of the existing key in Trie, we simply mark the last node of the key as the end of a word. The key length determines Trie depth."
   ]
  },
  {
   "cell_type": "markdown",
   "metadata": {},
   "source": [
    "Searching for a key is similar to insert operation, however, we only compare the characters and move down. The search can terminate due to the end of a string or lack of key in the trie. In the former case, if the isEndofWord field of the last node is true, then the key exists in the trie. In the second case, the search terminates without examining all the characters of the key, since the key is not present in the trie."
   ]
  },
  {
   "cell_type": "markdown",
   "metadata": {},
   "source": [
    "<strong>Insert and search costs O(key_length), however the memory requirements of Trie is O(ALPHABET_SIZE * key_length * N) where N is number of keys in Trie.</strong>"
   ]
  },
  {
   "cell_type": "markdown",
   "metadata": {},
   "source": [
    "# Trie | (Insert and Search)"
   ]
  },
  {
   "cell_type": "code",
   "execution_count": 1,
   "metadata": {},
   "outputs": [
    {
     "name": "stdout",
     "output_type": "stream",
     "text": [
      "True\n",
      "False\n",
      "True\n",
      "False\n"
     ]
    }
   ],
   "source": [
    "class TrieNode:\n",
    "    def __init__(self):\n",
    "        self.children=[None]*26\n",
    "        self.isEndOfWord=False\n",
    "\n",
    "class Trie:\n",
    "    def __init__(self):\n",
    "        self.root=self.getTrieNode()\n",
    "\n",
    "    def getTrieNode(self):\n",
    "        return TrieNode()\n",
    "\n",
    "    def getIndex(self,ch):\n",
    "        return ord(ch)-ord('a')\n",
    "\n",
    "    def insert(self,key):\n",
    "        root=self.root\n",
    "        l=len(key)\n",
    "        for i in range(l):\n",
    "            index=self.getIndex(key[i])\n",
    "            if not root.children[index]:\n",
    "                root.children[index]=self.getTrieNode()\n",
    "            root=root.children[index]\n",
    "        root.isEndOfWord=True\n",
    "\n",
    "    def searchNode(self,key):\n",
    "        root=self.root\n",
    "        l=len(key)\n",
    "        for i in range(l):\n",
    "            index=self.getIndex(key[i])\n",
    "            if not root.children[index]:\n",
    "                return False\n",
    "            root=root.children[index]\n",
    "        return root!=None and root.isEndOfWord\n",
    "\n",
    "if __name__ == '__main__':\n",
    "    keys=[\"the\",\"a\",\"there\",\"anaswe\",\"any\",\n",
    "            \"by\",\"their\"]\n",
    "    t=Trie()\n",
    "    for key in keys:\n",
    "        t.insert(key)\n",
    "    keysForSearch=['the','these','their','thaw']\n",
    "    for key in keysForSearch:\n",
    "        print(t.searchNode(key))\n"
   ]
  },
  {
   "cell_type": "code",
   "execution_count": null,
   "metadata": {},
   "outputs": [],
   "source": []
  }
 ],
 "metadata": {
  "kernelspec": {
   "display_name": "Python 3",
   "language": "python",
   "name": "python3"
  },
  "language_info": {
   "codemirror_mode": {
    "name": "ipython",
    "version": 3
   },
   "file_extension": ".py",
   "mimetype": "text/x-python",
   "name": "python",
   "nbconvert_exporter": "python",
   "pygments_lexer": "ipython3",
   "version": "3.7.6"
  }
 },
 "nbformat": 4,
 "nbformat_minor": 4
}

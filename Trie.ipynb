{
 "cells": [
  {
   "cell_type": "markdown",
   "metadata": {},
   "source": [
    "Trie is an efficient information reTrieval data structure. Using Trie, search complexities can be brought to optimal limit (key length). If we store keys in binary search tree, a well balanced BST will need time proportional to M * log N, where M is maximum string length and N is number of keys in tree. Using Trie, we can search the key in O(M) time. However the penalty is on Trie storage requirements"
   ]
  },
  {
   "cell_type": "markdown",
   "metadata": {},
   "source": [
    "Every node of Trie consists of multiple branches. Each branch represents a possible character of keys. We need to mark the last node of every key as end of word node. A Trie node field isEndOfWord is used to distinguish the node as end of word node."
   ]
  },
  {
   "cell_type": "markdown",
   "metadata": {},
   "source": [
    "Inserting a key into Trie is a simple approach. Every character of the input key is inserted as an individual Trie node. Note that the children is an array of pointers (or references) to next level trie nodes. The key character acts as an index into the array children. If the input key is new or an extension of the existing key, we need to construct non-existing nodes of the key, and mark end of the word for the last node. If the input key is a prefix of the existing key in Trie, we simply mark the last node of the key as the end of a word. The key length determines Trie depth."
   ]
  },
  {
   "cell_type": "markdown",
   "metadata": {},
   "source": [
    "Searching for a key is similar to insert operation, however, we only compare the characters and move down. The search can terminate due to the end of a string or lack of key in the trie. In the former case, if the isEndofWord field of the last node is true, then the key exists in the trie. In the second case, the search terminates without examining all the characters of the key, since the key is not present in the trie."
   ]
  },
  {
   "cell_type": "markdown",
   "metadata": {},
   "source": [
    "<strong>Insert and search costs O(key_length), however the memory requirements of Trie is O(ALPHABET_SIZE * key_length * N) where N is number of keys in Trie.</strong>"
   ]
  },
  {
   "cell_type": "markdown",
   "metadata": {},
   "source": [
    "# Trie | (Insert and Search)"
   ]
  },
  {
   "cell_type": "code",
   "execution_count": 1,
   "metadata": {},
   "outputs": [
    {
     "name": "stdout",
     "output_type": "stream",
     "text": [
      "True\n",
      "False\n",
      "True\n",
      "False\n"
     ]
    }
   ],
   "source": [
    "class TrieNode:\n",
    "    def __init__(self):\n",
    "        self.children=[None]*26\n",
    "        self.isEndOfWord=False\n",
    "\n",
    "class Trie:\n",
    "    def __init__(self):\n",
    "        self.root=self.getTrieNode()\n",
    "\n",
    "    def getTrieNode(self):\n",
    "        return TrieNode()\n",
    "\n",
    "    def getIndex(self,ch):\n",
    "        return ord(ch)-ord('a')\n",
    "\n",
    "    def insert(self,key):\n",
    "        root=self.root\n",
    "        l=len(key)\n",
    "        for i in range(l):\n",
    "            index=self.getIndex(key[i])\n",
    "            if not root.children[index]:\n",
    "                root.children[index]=self.getTrieNode()\n",
    "            root=root.children[index]\n",
    "        root.isEndOfWord=True\n",
    "\n",
    "    def searchNode(self,key):\n",
    "        root=self.root\n",
    "        l=len(key)\n",
    "        for i in range(l):\n",
    "            index=self.getIndex(key[i])\n",
    "            if not root.children[index]:\n",
    "                return False\n",
    "            root=root.children[index]\n",
    "        return root!=None and root.isEndOfWord\n",
    "\n",
    "if __name__ == '__main__':\n",
    "    keys=[\"the\",\"a\",\"there\",\"anaswe\",\"any\",\n",
    "            \"by\",\"their\"]\n",
    "    t=Trie()\n",
    "    for key in keys:\n",
    "        t.insert(key)\n",
    "    keysForSearch=['the','these','their','thaw']\n",
    "    for key in keysForSearch:\n",
    "        print(t.searchNode(key))\n"
   ]
  },
  {
   "cell_type": "markdown",
   "metadata": {},
   "source": [
    "# Trie | (Delete)"
   ]
  },
  {
   "cell_type": "markdown",
   "metadata": {},
   "source": [
    "During delete operation we delete the key in bottom up manner using recursion. The following are possible conditions when deleting key from trie, \n",
    "\n",
    "Key may not be there in trie. Delete operation should not modify trie.\n",
    "\n",
    "Key present as unique key (no part of key contains another key (prefix), nor the key itself is prefix of another key in trie). Delete all the nodes.\n",
    "\n",
    "Key is prefix key of another long key in trie. Unmark the leaf node.\n",
    "\n",
    "Key present in trie, having atleast one other key as prefix key. Delete nodes from end of key until first leaf node of longest prefix key."
   ]
  },
  {
   "cell_type": "code",
   "execution_count": 1,
   "metadata": {},
   "outputs": [
    {
     "name": "stdout",
     "output_type": "stream",
     "text": [
      "the -> True\n",
      "a -> True\n",
      "there -> True\n",
      "bye -> True\n",
      "anaswe -> True\n",
      "any -> True\n",
      "by -> True\n",
      "their -> True\n",
      "cat -> True\n",
      "\n",
      "the -> True\n",
      "a -> True\n",
      "there -> True\n",
      "bye -> True\n",
      "anaswe -> True\n",
      "any -> True\n",
      "by -> True\n",
      "their -> True\n",
      "cat -> False\n",
      "\n",
      "the -> True\n",
      "a -> True\n",
      "there -> True\n",
      "bye -> True\n",
      "anaswe -> True\n",
      "any -> True\n",
      "by -> True\n",
      "their -> True\n",
      "cat -> False\n",
      "\n",
      "the -> True\n",
      "a -> True\n",
      "there -> True\n",
      "bye -> True\n",
      "anaswe -> True\n",
      "any -> True\n",
      "by -> False\n",
      "their -> True\n",
      "cat -> False\n",
      "\n",
      "the -> True\n",
      "a -> True\n",
      "there -> False\n",
      "bye -> True\n",
      "anaswe -> True\n",
      "any -> True\n",
      "by -> False\n",
      "their -> True\n",
      "cat -> False\n",
      "\n"
     ]
    }
   ],
   "source": [
    "class TrieNode:\n",
    "    def __init__(self):\n",
    "        self.children=[None]*26\n",
    "        self.isEndOfWord=False\n",
    "\n",
    "class Trie:\n",
    "    def __init__(self):\n",
    "        self.root=self.getTrieNode()\n",
    "\n",
    "    def getTrieNode(self):\n",
    "        return TrieNode()\n",
    "\n",
    "    def getIndex(self,ch):\n",
    "        return ord(ch)-ord('a')\n",
    "\n",
    "    def insert(self,key):\n",
    "        root=self.root\n",
    "        l=len(key)\n",
    "        for i in range(l):\n",
    "            index=self.getIndex(key[i])\n",
    "            if not root.children[index]:\n",
    "                root.children[index]=self.getTrieNode()\n",
    "            root=root.children[index]\n",
    "        root.isEndOfWord=True\n",
    "\n",
    "    def searchNode(self,key):\n",
    "        root=self.root\n",
    "        l=len(key)\n",
    "        for i in range(l):\n",
    "            index=self.getIndex(key[i])\n",
    "            if not root.children[index]:\n",
    "                return False\n",
    "            root=root.children[index]\n",
    "        return root!=None and root.isEndOfWord\n",
    "\n",
    "    def isEmpty(self,root):\n",
    "        for i in range(26):\n",
    "            if root.children[i]!=None:\n",
    "                return False\n",
    "        return True\n",
    "\n",
    "    def deleteKey(self,root,key,depth):\n",
    "        if root is None:\n",
    "            return None\n",
    "\n",
    "        if depth==len(key):\n",
    "            if root.isEndOfWord:\n",
    "                root.isEndOfWord=False\n",
    "            if self.isEmpty(root):\n",
    "                root=None\n",
    "            return root\n",
    "\n",
    "        index=self.getIndex(key[depth])\n",
    "        root.children[index]=self.deleteKey(root.children[index],key,depth+1)\n",
    "\n",
    "        if self.isEmpty(root) and root.isEndOfWord==False:\n",
    "            root=None\n",
    "        return root\n",
    "\n",
    "\n",
    "if __name__ == '__main__':\n",
    "    trie=Trie()\n",
    "    keys=[\"the\",\"a\",\"there\",\"bye\",\"anaswe\",\"any\",\"by\",\"their\",\"cat\"]\n",
    "    for key in keys:\n",
    "        trie.insert(key)\n",
    "    for key in keys:\n",
    "        print(f\"{key} -> {trie.searchNode(key)}\")\n",
    "    print()\n",
    "    trie.deleteKey(trie.root, \"cat\", 0)\n",
    "    for key in keys:\n",
    "        print(f\"{key} -> {trie.searchNode(key)}\")\n",
    "    print()\n",
    "    trie.deleteKey(trie.root, \"thy\", 0)\n",
    "    for key in keys:\n",
    "        print(f\"{key} -> {trie.searchNode(key)}\")\n",
    "    print()\n",
    "    trie.deleteKey(trie.root, \"by\", 0)\n",
    "    for key in keys:\n",
    "        print(f\"{key} -> {trie.searchNode(key)}\")\n",
    "    print()\n",
    "    trie.deleteKey(trie.root, \"there\", 0)\n",
    "    for key in keys:\n",
    "        print(f\"{key} -> {trie.searchNode(key)}\")\n",
    "    print()\n"
   ]
  },
  {
   "cell_type": "markdown",
   "metadata": {},
   "source": [
    "# Count Number of Strings with given Prefix"
   ]
  },
  {
   "cell_type": "markdown",
   "metadata": {},
   "source": [
    "Maintain a prefix Count inside the Trie Node"
   ]
  },
  {
   "cell_type": "code",
   "execution_count": 2,
   "metadata": {},
   "outputs": [
    {
     "name": "stdout",
     "output_type": "stream",
     "text": [
      "Prefixes with ab are 3\n",
      "Prefixes with aba are 3\n",
      "Prefixes with abaa are 1\n",
      "Prefixes with ac are 0\n",
      "Prefixes with aa are 2\n"
     ]
    }
   ],
   "source": [
    "class TrieNode:\n",
    "    def __init__(self):\n",
    "        self.children=[None]*26\n",
    "        self.pc=1\n",
    "\n",
    "class Trie:\n",
    "    def __init__(self):\n",
    "        self.root=self.getTrieNode()\n",
    "\n",
    "    def getTrieNode(self):\n",
    "        return TrieNode()\n",
    "\n",
    "    def getIndex(self,ch):\n",
    "        return ord(ch)-ord('a')\n",
    "\n",
    "    def insert(self,key):\n",
    "        root=self.root\n",
    "        l=len(key)\n",
    "        for i in range(l):\n",
    "            index=self.getIndex(key[i])\n",
    "            if not root.children[index]:\n",
    "                root.children[index]=self.getTrieNode()\n",
    "            else:\n",
    "                root.children[index].pc+=1\n",
    "            root=root.children[index]\n",
    "\n",
    "    def getPrefixCount(self,prefix):\n",
    "        root=self.root\n",
    "        l=len(prefix)\n",
    "        for i in range(l):\n",
    "            index=self.getIndex(prefix[i])\n",
    "            if not root.children[index]:\n",
    "                return 0\n",
    "            root=root.children[index]\n",
    "        return root.pc\n",
    "\n",
    "if __name__ == '__main__':\n",
    "    keys=['abac','abaa','abab','aabb','aabc']\n",
    "    t=Trie()\n",
    "    for key in keys:\n",
    "        t.insert(key)\n",
    "    prefixes=['ab','aba','abaa','ac','aa']\n",
    "    for i in prefixes:\n",
    "        print(f\"Prefixes with {i} are {t.getPrefixCount(i)}\")\n"
   ]
  },
  {
   "cell_type": "markdown",
   "metadata": {},
   "source": [
    "# Longest prefix matching"
   ]
  },
  {
   "cell_type": "code",
   "execution_count": 3,
   "metadata": {},
   "outputs": [
    {
     "name": "stdout",
     "output_type": "stream",
     "text": [
      "base\n"
     ]
    }
   ],
   "source": [
    "class TrieNode:\n",
    "    def __init__(self):\n",
    "        self.children=[None]*26\n",
    "        self.isEndOfWord=False\n",
    "\n",
    "class Trie:\n",
    "    def __init__(self):\n",
    "        self.root=self.getTrieNode()\n",
    "\n",
    "    def getTrieNode(self):\n",
    "        return TrieNode()\n",
    "\n",
    "    def getIndex(self,ch):\n",
    "        return ord(ch)-ord('a')\n",
    "\n",
    "    def insert(self,key):\n",
    "        root=self.root\n",
    "        l=len(key)\n",
    "        for i in range(l):\n",
    "            index=self.getIndex(key[i])\n",
    "            if not root.children[index]:\n",
    "                root.children[index]=self.getTrieNode()\n",
    "            root=root.children[index]\n",
    "        root.isEndOfWord=True\n",
    "\n",
    "    def getLongestPrefix(self,word):\n",
    "        root=self.root\n",
    "        l=len(word)\n",
    "        result=\"\"\n",
    "        curr=\"\"\n",
    "        for i in range(l):\n",
    "            index=self.getIndex(word[i])\n",
    "            if not root.children[index]:\n",
    "                break\n",
    "            else:\n",
    "                curr+=word[i]\n",
    "                if root.children[index].isEndOfWord:\n",
    "                    result=curr\n",
    "            root=root.children[index]\n",
    "        return result if result else \"No Prefix Found\"\n",
    "\n",
    "if __name__ == '__main__':\n",
    "    keys=['are','area','base','cat','cater','children','basement']\n",
    "    t=Trie()\n",
    "    for key in keys:\n",
    "        t.insert(key)\n",
    "    word=\"basemexy\"\n",
    "    # word=\"caterer\"\n",
    "    # word=\"child\"\n",
    "    print(t.getLongestPrefix(word))\n"
   ]
  },
  {
   "cell_type": "markdown",
   "metadata": {},
   "source": [
    "# Find shortest unique prefix for every word in a given list"
   ]
  },
  {
   "cell_type": "code",
   "execution_count": 4,
   "metadata": {},
   "outputs": [
    {
     "name": "stdout",
     "output_type": "stream",
     "text": [
      "Unique Prefix for zebra is z\n",
      "Unique Prefix for dog is dog\n",
      "Unique Prefix for duck is du\n",
      "Unique Prefix for dove is dov\n"
     ]
    }
   ],
   "source": [
    "class TrieNode:\n",
    "    def __init__(self):\n",
    "        self.children=[None]*26\n",
    "        self.pc=1\n",
    "\n",
    "class Trie:\n",
    "    def __init__(self):\n",
    "        self.root=self.getTrieNode()\n",
    "\n",
    "    def getTrieNode(self):\n",
    "        return TrieNode()\n",
    "\n",
    "    def getIndex(self,ch):\n",
    "        return ord(ch)-ord('a')\n",
    "\n",
    "    def insert(self,key):\n",
    "        root=self.root\n",
    "        l=len(key)\n",
    "        for i in range(l):\n",
    "            index=self.getIndex(key[i])\n",
    "            if not root.children[index]:\n",
    "                root.children[index]=self.getTrieNode()\n",
    "            else:\n",
    "                root.children[index].pc+=1\n",
    "            root=root.children[index]\n",
    "\n",
    "    def getShortestUniquePrefix(self,key):\n",
    "        root=self.root\n",
    "        l=len(key)\n",
    "        currPrefix=\"\"\n",
    "        for i in range(l):\n",
    "            index=self.getIndex(key[i])\n",
    "            if not root.children[index]:\n",
    "                return None\n",
    "            else:\n",
    "                currPrefix+=key[i]\n",
    "                if root.children[index].pc==1:\n",
    "                    return currPrefix\n",
    "            root=root.children[index]\n",
    "\n",
    "if __name__ == '__main__':\n",
    "    trie=Trie()\n",
    "    keys=[\"zebra\",\"dog\",\"duck\",\"dove\"]\n",
    "    for key in keys:\n",
    "        trie.insert(key)\n",
    "    for key in keys:\n",
    "        print(f\"Unique Prefix for {key} is {trie.getShortestUniquePrefix(key)}\")\n"
   ]
  },
  {
   "cell_type": "markdown",
   "metadata": {},
   "source": [
    "# Longest Common Prefix using Trie"
   ]
  },
  {
   "cell_type": "markdown",
   "metadata": {},
   "source": [
    "Approach-> Insert all the keys in the trie and keep track of the longest word. Nor traversethe longest word and keep the characters having prefix count equal to the size of array of keys"
   ]
  },
  {
   "cell_type": "code",
   "execution_count": 1,
   "metadata": {},
   "outputs": [
    {
     "name": "stdout",
     "output_type": "stream",
     "text": [
      "ap\n"
     ]
    }
   ],
   "source": [
    "class TrieNode:\n",
    "    def __init__(self):\n",
    "        self.children=[None]*26\n",
    "        self.pc=1\n",
    "\n",
    "class Trie:\n",
    "    def __init__(self):\n",
    "        self.root=self.getTrieNode()\n",
    "        self.longestWord=\"\"\n",
    "\n",
    "    def getTrieNode(self):\n",
    "        return TrieNode()\n",
    "\n",
    "    def getIndex(self,ch):\n",
    "        return ord(ch)-ord('a')\n",
    "\n",
    "    def insert(self,key):\n",
    "        root=self.root\n",
    "        l=len(key)\n",
    "        if l>len(self.longestWord):\n",
    "            self.longestWord=key\n",
    "        for i in range(l):\n",
    "            index=self.getIndex(key[i])\n",
    "            if not root.children[index]:\n",
    "                root.children[index]=self.getTrieNode()\n",
    "            else:\n",
    "                root.children[index].pc+=1\n",
    "            root=root.children[index]\n",
    "\n",
    "    def getLongestCommonPrefix(self,n):\n",
    "        root=self.root\n",
    "        l=len(self.longestWord)\n",
    "        prefix=\"\"\n",
    "        for i in range(l):\n",
    "            index=self.getIndex(self.longestWord[i])\n",
    "            if not root.children[index]:\n",
    "                return prefix\n",
    "            else:\n",
    "                if root.children[index].pc==n:\n",
    "                    prefix+=self.longestWord[i]\n",
    "                else:\n",
    "                    return prefix\n",
    "            root=root.children[index]\n",
    "\n",
    "if __name__ == '__main__':\n",
    "    trie=Trie()\n",
    "    keys=[\"geeksforgeeks\", \"geeks\", \"geek\", \"geezer\"]\n",
    "    keys=[\"apple\",\"ape\",\"april\"]\n",
    "    for key in keys:\n",
    "        trie.insert(key)\n",
    "    n=len(keys)\n",
    "    print(trie.getLongestCommonPrefix(n))\n"
   ]
  },
  {
   "cell_type": "markdown",
   "metadata": {},
   "source": [
    "# Print all words matching a pattern in CamelCase Notation Dictonary"
   ]
  },
  {
   "cell_type": "code",
   "execution_count": 2,
   "metadata": {},
   "outputs": [
    {
     "name": "stdout",
     "output_type": "stream",
     "text": [
      "['HiTech', 'HiTechWorld', 'HiTechCity', 'HiTechLab']\n",
      "['Hi', 'Hello', 'HelloWorld', 'HiTech', 'HiGeek', 'HiTechWorld', 'HiTechCity', 'HiTechLab']\n",
      "['HiTechLab']\n",
      "['HiTechCity']\n"
     ]
    }
   ],
   "source": [
    "class TrieNode:\n",
    "    def __init__(self):\n",
    "        self.children=[None]*26\n",
    "        self.words=[]\n",
    "\n",
    "class Trie:\n",
    "    def __init__(self):\n",
    "        self.root=self.getTrieNode()\n",
    "\n",
    "    def getTrieNode(self):\n",
    "        return TrieNode()\n",
    "\n",
    "    def getIndex(self,ch):\n",
    "        return ord(ch)-ord('A')\n",
    "\n",
    "    def insert(self,key):\n",
    "        root=self.root\n",
    "        l=len(key)\n",
    "        for i in range(l):\n",
    "            if key[i].islower():\n",
    "                continue\n",
    "            index=self.getIndex(key[i])\n",
    "            if not root.children[index]:\n",
    "                root.children[index]=self.getTrieNode()\n",
    "            root.children[index].words.append(key)\n",
    "            root=root.children[index]\n",
    "\n",
    "    def getWords(self,notation):\n",
    "        root=self.root\n",
    "        l=len(notation)\n",
    "        for i in range(l):\n",
    "            index=self.getIndex(notation[i])\n",
    "            if not root.children[index]:\n",
    "                return f\"NO WORDS FOUND WITH NOTATION {notation}\"\n",
    "            root=root.children[index]\n",
    "        return root.words\n",
    "\n",
    "\n",
    "if __name__ == '__main__':\n",
    "    trie=Trie()\n",
    "    keys=[\"Hi\", \"Hello\", \"HelloWorld\",  \"HiTech\", \"HiGeek\", \"HiTechWorld\", \"HiTechCity\", \"HiTechLab\"]\n",
    "    for key in keys:\n",
    "        trie.insert(key)\n",
    "    print(trie.getWords(\"HT\"))\n",
    "    print(trie.getWords(\"H\"))\n",
    "    print(trie.getWords(\"HTL\"))\n",
    "    print(trie.getWords(\"HTC\"))\n"
   ]
  },
  {
   "cell_type": "markdown",
   "metadata": {},
   "source": [
    "# Implement a Phone Directory | Autocomplete Feature"
   ]
  },
  {
   "cell_type": "markdown",
   "metadata": {},
   "source": [
    "Given a list of contacts which exist in a phone directory. The task is to implement search query for the phone directory. The search query on a string ‘str’ displays all the contacts which prefix as ‘str’. One special property of the search function is that, when a user searches for a contact from the contact list then suggestions (Contacts with prefix as the string entered so for) are shown after user enters each character.\n",
    "\n",
    "Note : Contacts in the list consist of only lower case alphabets."
   ]
  },
  {
   "cell_type": "code",
   "execution_count": 3,
   "metadata": {},
   "outputs": [
    {
     "name": "stdout",
     "output_type": "stream",
     "text": [
      "geeksquiz\n",
      "gforgeeks\n",
      "\n",
      "geeksquiz\n",
      "\n",
      "No Results Found\n",
      "\n",
      "No Results Found\n",
      "\n"
     ]
    }
   ],
   "source": [
    "class TrieNode:\n",
    "    def __init__(self):\n",
    "        self.children=[None]*26\n",
    "        self.isEndOfWord=False\n",
    "\n",
    "class Trie:\n",
    "    def __init__(self):\n",
    "        self.root=self.getTrieNode()\n",
    "\n",
    "    def getTrieNode(self):\n",
    "        return TrieNode()\n",
    "\n",
    "    def getIndex(self,ch):\n",
    "        return ord(ch)-ord('a')\n",
    "\n",
    "    def insert(self,key):\n",
    "        root=self.root\n",
    "        l=len(key)\n",
    "        for i in range(l):\n",
    "            index=self.getIndex(key[i])\n",
    "            if not root.children[index]:\n",
    "                root.children[index]=self.getTrieNode()\n",
    "            root=root.children[index]\n",
    "        root.isEndOfWord=True\n",
    "\n",
    "    def isLast(self,root):\n",
    "        for i in range(26):\n",
    "            if root.children[i]:\n",
    "                return False\n",
    "        return True\n",
    "\n",
    "    def getAutocomplete(self,query):\n",
    "        root=self.root\n",
    "        l=len(query)\n",
    "        for i in range(l):\n",
    "            index=self.getIndex(query[i])\n",
    "            if not root.children[index]:\n",
    "                print(\"No Results Found\")\n",
    "                return\n",
    "            root=root.children[index]\n",
    "\n",
    "        isLast=self.isLast(root)\n",
    "        isEnd=root.isEndOfWord\n",
    "\n",
    "        if isLast and isEnd:\n",
    "            print(query)\n",
    "            return\n",
    "\n",
    "        if not isLast:\n",
    "            self.recurForSuggestions(root,query)\n",
    "\n",
    "    def recurForSuggestions(self,root,currPrefix):\n",
    "        if root.isEndOfWord:\n",
    "            print(currPrefix)\n",
    "\n",
    "        if self.isLast(root):\n",
    "            return\n",
    "\n",
    "        for i in range(26):\n",
    "            if root.children[i]:\n",
    "                self.recurForSuggestions(root.children[i],currPrefix+chr(i+97))\n",
    "\n",
    "if __name__ == '__main__':\n",
    "    trie=Trie()\n",
    "    keys=[\"gforgeeks\",\"geeksquiz\"]\n",
    "    for key in keys:\n",
    "        trie.insert(key)\n",
    "    queryString=\"g\"\n",
    "    trie.getAutocomplete(queryString)\n",
    "    print()\n",
    "    queryString=\"ge\"\n",
    "    trie.getAutocomplete(queryString)\n",
    "    print()\n",
    "    queryString=\"gek\"\n",
    "    trie.getAutocomplete(queryString)\n",
    "    print()\n",
    "    queryString=\"k\"\n",
    "    trie.getAutocomplete(queryString)\n",
    "    print()\n"
   ]
  },
  {
   "cell_type": "markdown",
   "metadata": {},
   "source": [
    "# Print unique rows in a given boolean matrix"
   ]
  },
  {
   "cell_type": "code",
   "execution_count": 4,
   "metadata": {},
   "outputs": [
    {
     "name": "stdout",
     "output_type": "stream",
     "text": [
      "[0, 1, 0, 0, 1]\n",
      "[1, 0, 1, 1, 0]\n",
      "[1, 1, 1, 0, 0]\n"
     ]
    }
   ],
   "source": [
    "class TrieNode:\n",
    "    def __init__(self):\n",
    "        self.children=[None]*2\n",
    "        self.isEndOfWord=False\n",
    "\n",
    "class Trie:\n",
    "    def __init__(self):\n",
    "        self.root=self.getTrieNode()\n",
    "        self.UniqueRows=[]\n",
    "\n",
    "    def getTrieNode(self):\n",
    "        return TrieNode()\n",
    "\n",
    "    def insert(self,key):\n",
    "        root=self.root\n",
    "        l=len(key)\n",
    "        isUnique=False\n",
    "        for i in range(l):\n",
    "            index=key[i]\n",
    "            if not root.children[index]:\n",
    "                root.children[index]=self.getTrieNode()\n",
    "                isUnique=True\n",
    "            root=root.children[index]\n",
    "        root.isEndOfWord=True\n",
    "        if isUnique:\n",
    "            self.UniqueRows.append(key)\n",
    "\n",
    "    def getUniqueRows(self):\n",
    "        return self.UniqueRows\n",
    "\n",
    "if __name__ == '__main__':\n",
    "    trie=Trie()\n",
    "    matrix=[[0, 1, 0, 0, 1],[1, 0, 1, 1, 0],[0, 1, 0, 0, 1],[1, 1, 1, 0, 0]]\n",
    "    for i in range(len(matrix)):\n",
    "        trie.insert(matrix[i])\n",
    "    result=trie.getUniqueRows()\n",
    "    for i in result:\n",
    "        print(i)\n"
   ]
  },
  {
   "cell_type": "markdown",
   "metadata": {},
   "source": [
    "# Count of distinct substrings of a string using Suffix Trie"
   ]
  },
  {
   "cell_type": "markdown",
   "metadata": {},
   "source": [
    "The idea is create a Trie of all suffixes of given string. Once the Trie is constricted, our answer is total number of nodes in the constructed Trie."
   ]
  },
  {
   "cell_type": "code",
   "execution_count": 5,
   "metadata": {},
   "outputs": [
    {
     "name": "stdout",
     "output_type": "stream",
     "text": [
      "10\n"
     ]
    }
   ],
   "source": [
    "class TrieNode:\n",
    "    def __init__(self):\n",
    "        self.children=[None]*26\n",
    "        self.isEndOfWord=False\n",
    "\n",
    "class Trie:\n",
    "    def __init__(self):\n",
    "        self.root=self.getTrieNode()\n",
    "\n",
    "    def getTrieNode(self):\n",
    "        return TrieNode()\n",
    "\n",
    "    def getIndex(self,ch):\n",
    "        return ord(ch)-ord('a')\n",
    "\n",
    "    def insert(self,key):\n",
    "        root=self.root\n",
    "        l=len(key)\n",
    "        for i in range(l):\n",
    "            index=self.getIndex(key[i])\n",
    "            if not root.children[index]:\n",
    "                root.children[index]=self.getTrieNode()\n",
    "            root=root.children[index]\n",
    "        root.isEndOfWord=True\n",
    "\n",
    "    def createTrie(self,s):\n",
    "        for i in range(len(s)):\n",
    "            self.insert(s[i:])\n",
    "\n",
    "    def getCountOfDistinctSubstrings(self,s):\n",
    "        self.createTrie(s)\n",
    "        return self.countNodes()\n",
    "\n",
    "    def countNodes(self):\n",
    "        root=self.root\n",
    "        return self.countNodesUtil(root)\n",
    "\n",
    "    def countNodesUtil(self,root):\n",
    "        if root is None:\n",
    "            return 0\n",
    "\n",
    "        count=0\n",
    "\n",
    "        for i in range(26):\n",
    "            if root.children[i]:\n",
    "                count+=self.countNodesUtil(root.children[i])\n",
    "        return count+1\n",
    "\n",
    "if __name__ == '__main__':\n",
    "    trie=Trie()\n",
    "    s=\"ababa\"\n",
    "    print(trie.getCountOfDistinctSubstrings(s))\n"
   ]
  },
  {
   "cell_type": "markdown",
   "metadata": {},
   "source": [
    "# Find pair of rows in a binary matrix that has maximum bit difference"
   ]
  },
  {
   "cell_type": "markdown",
   "metadata": {},
   "source": [
    "Create a list of tuples of 2 elements, sum of bits and the row number. Find the row with max sum and min sum and return their row numbers"
   ]
  },
  {
   "cell_type": "code",
   "execution_count": 6,
   "metadata": {},
   "outputs": [
    {
     "name": "stdout",
     "output_type": "stream",
     "text": [
      "(4, 1)\n"
     ]
    }
   ],
   "source": [
    "def getMaxBitDifference(arr):\n",
    "    arrMod=[]\n",
    "    for i in range(len(arr)):\n",
    "        arrMod.append([sum(arr[i]),i+1])\n",
    "    arrMod.sort(key=lambda x:x[0])\n",
    "    # print(arrMod)\n",
    "    minEle=arrMod[0]\n",
    "    maxEle=arrMod[0]\n",
    "    for i in range(len(arr)):\n",
    "        if arrMod[i][0]<minEle[0]:\n",
    "            minEle=arrMod[i]\n",
    "        if arrMod[i][0]>maxEle[0]:\n",
    "            maxEle=arrMod[i]\n",
    "    print((minEle[1],maxEle[1]))\n",
    "\n",
    "if __name__ == '__main__':\n",
    "    # arr=[[1, 1, 1, 1],[1, 1, 0, 1],[0, 0, 0, 0]]\n",
    "    arr=[[1 ,1 ,1 ,1],[1 ,0, 1 ,1],[0 ,1 ,0 ,0 ],[0, 0 ,0 ,0]]\n",
    "    getMaxBitDifference(arr)\n"
   ]
  },
  {
   "cell_type": "markdown",
   "metadata": {},
   "source": [
    "# Minimum XOR Value Pair"
   ]
  },
  {
   "cell_type": "markdown",
   "metadata": {},
   "source": [
    "Approach-> Sort the array and chek for the consecutive numbers"
   ]
  },
  {
   "cell_type": "code",
   "execution_count": 1,
   "metadata": {},
   "outputs": [
    {
     "name": "stdout",
     "output_type": "stream",
     "text": [
      "1\n",
      "[(2, 3), (4, 5)]\n"
     ]
    }
   ],
   "source": [
    "def getMinXORPairs(arr):\n",
    "    arr.sort()\n",
    "    minXOR=float('infinity')\n",
    "    resultPairs=[]\n",
    "    for i in range(len(arr)-1):\n",
    "        if arr[i]^arr[i+1]<minXOR:\n",
    "            minXOR=arr[i]^arr[i+1]\n",
    "            resultPairs=[(arr[i],arr[i+1])]\n",
    "        elif arr[i]^arr[i+1]==minXOR:\n",
    "            resultPairs.append((arr[i],arr[i+1]))\n",
    "    return minXOR,resultPairs\n",
    "\n",
    "if __name__ == '__main__':\n",
    "    arr=[9, 5, 3]\n",
    "    arr=[1, 2, 3, 4, 5]\n",
    "    value,pairs=getMinXORPairs(arr)\n",
    "    print(value)\n",
    "    print(pairs)\n"
   ]
  },
  {
   "cell_type": "markdown",
   "metadata": {},
   "source": [
    "# Weighted Prefix Search"
   ]
  },
  {
   "cell_type": "markdown",
   "metadata": {},
   "source": [
    "Given n strings and a weight associated with each string. The task is to find the maximum weight of string having the given prefix."
   ]
  },
  {
   "cell_type": "code",
   "execution_count": 2,
   "metadata": {},
   "outputs": [
    {
     "name": "stdout",
     "output_type": "stream",
     "text": [
      "['geeksforgeeks', 45]\n"
     ]
    }
   ],
   "source": [
    "class TrieNode:\n",
    "    def __init__(self):\n",
    "        self.children=[None]*26\n",
    "        self.isEndOfWord=False\n",
    "        self.weight=0\n",
    "\n",
    "class Trie:\n",
    "    def __init__(self):\n",
    "        self.root=self.getTrieNode()\n",
    "\n",
    "    def getTrieNode(self):\n",
    "        return TrieNode()\n",
    "\n",
    "    def getIndex(self,ch):\n",
    "        return ord(ch)-ord('a')\n",
    "\n",
    "    def insert(self,key,weight):\n",
    "        root=self.root\n",
    "        l=len(key)\n",
    "        for i in range(l):\n",
    "            index=self.getIndex(key[i])\n",
    "            if not root.children[index]:\n",
    "                root.children[index]=self.getTrieNode()\n",
    "            root=root.children[index]\n",
    "        root.isEndOfWord=True\n",
    "        root.weight=weight\n",
    "\n",
    "    def isLastNode(self,root):\n",
    "        for i in range(26):\n",
    "            if root.children[i]:\n",
    "                return False\n",
    "        return True\n",
    "\n",
    "    def getLongestWeightPrefix(self,query):\n",
    "        root=self.root\n",
    "        l=len(query)\n",
    "        for i in range(l):\n",
    "            index=self.getIndex(query[i])\n",
    "            if not root.children[index]:\n",
    "                return\n",
    "            root=root.children[index]\n",
    "        isLast=self.isLastNode(root)\n",
    "        isWord=root.isEndOfWord\n",
    "\n",
    "        if isLast and isWord:\n",
    "            print(query)\n",
    "            return\n",
    "\n",
    "        result=[\"\",float('-infinity')]\n",
    "\n",
    "        if not isLast:\n",
    "            self.recurForSuggestions(root,query,result)\n",
    "\n",
    "        print(result)\n",
    "\n",
    "    def recurForSuggestions(self,root,currPrefix,result):\n",
    "        if root.isEndOfWord:\n",
    "            if result[1]<root.weight:\n",
    "                result[0]=currPrefix\n",
    "                result[1]=root.weight\n",
    "\n",
    "        if self.isLastNode(root):\n",
    "            return\n",
    "\n",
    "        for i in range(26):\n",
    "            if root.children[i]:\n",
    "                self.recurForSuggestions(root.children[i],currPrefix+chr(97+i),result)\n",
    "\n",
    "if __name__ == '__main__':\n",
    "    keys=[(\"geeks\",15),(\"geeksfor\",30),(\"geeksforgeeks\",45)]\n",
    "    t=Trie()\n",
    "    for key in keys:\n",
    "        t.insert(key[0],key[1])\n",
    "    query=\"geeks\"\n",
    "    t.getLongestWeightPrefix(query)\n"
   ]
  },
  {
   "cell_type": "markdown",
   "metadata": {},
   "source": [
    "# Boggle"
   ]
  },
  {
   "cell_type": "markdown",
   "metadata": {},
   "source": [
    "Given a dictionary, a method to do a lookup in the dictionary and a M x N board where every cell has one character. Find all possible words that can be formed by a sequence of adjacent characters. Note that we can move to any of 8 adjacent characters, but a word should not have multiple instances of the same cell."
   ]
  },
  {
   "cell_type": "markdown",
   "metadata": {},
   "source": [
    "Approach -> DFS"
   ]
  },
  {
   "cell_type": "code",
   "execution_count": 3,
   "metadata": {},
   "outputs": [
    {
     "name": "stdout",
     "output_type": "stream",
     "text": [
      "GEE\n",
      "GEEKS\n",
      "QUIZ\n"
     ]
    }
   ],
   "source": [
    "def isWord(dictionary,curr):\n",
    "    for i in dictionary:\n",
    "        if i==curr:\n",
    "            return True\n",
    "    return False\n",
    "\n",
    "def solveBoggleUtil(dictionary,boggle,i,j,visited,curr,numRows,numCols):\n",
    "    visited[i][j]=True\n",
    "    curr+=boggle[i][j]\n",
    "\n",
    "    if isWord(dictionary,curr):\n",
    "        print(curr)\n",
    "\n",
    "    x=[-1,-1,-1,0,0,1,1,1]\n",
    "    y=[-1,0,1,-1,1,-1,0,1]\n",
    "\n",
    "    for k in range(8):\n",
    "        if isSafe(boggle,i+x[k],j+y[k],visited,numRows,numCols):\n",
    "            solveBoggleUtil(dictionary, boggle, i+x[k], j+y[k], visited, curr, numRows, numCols)\n",
    "\n",
    "    curr=curr[:len(curr)-1]\n",
    "    visited[i][j]=False\n",
    "\n",
    "def isSafe(boggle,i,j,visited,numRows,numCols):\n",
    "    return i>=0 and j>=0 and i<numRows and j<numCols and visited[i][j]==False\n",
    "\n",
    "def solveBoggle(dictionary,boggle):\n",
    "    numRows=len(boggle)\n",
    "    numCols=len(boggle)\n",
    "    visited=[[False for j in range(numCols)]for i in range(numRows)]\n",
    "    curr=\"\"\n",
    "    for i in range(numRows):\n",
    "        for j in range(numCols):\n",
    "            solveBoggleUtil(dictionary,boggle,i,j,visited,curr,numRows,numCols)\n",
    "\n",
    "if __name__ == '__main__':\n",
    "    dictionary=[\"GEEKS\", \"FOR\", \"QUIZ\", \"GO\",\"GEE\"]\n",
    "    boggle=[['G', 'I', 'Z'],['U', 'E', 'K'],['Q', 'S', 'E']]\n",
    "    solveBoggle(dictionary,boggle)\n"
   ]
  },
  {
   "cell_type": "markdown",
   "metadata": {},
   "source": [
    "# Print all valid words that are possible using Characters of Array"
   ]
  },
  {
   "cell_type": "code",
   "execution_count": 4,
   "metadata": {},
   "outputs": [
    {
     "name": "stdout",
     "output_type": "stream",
     "text": [
      "go\n",
      "me\n",
      "goal\n"
     ]
    }
   ],
   "source": [
    "def getWords(dictionary,arr):\n",
    "    hashArr={}\n",
    "    for i in arr:\n",
    "        if i in hashArr:\n",
    "            hashArr[i]+=1\n",
    "        else:\n",
    "            hashArr[i]=1\n",
    "    # print(hashArr)\n",
    "    for i in dictionary:\n",
    "        word=i\n",
    "        hashWord={}\n",
    "        for j in word:\n",
    "            if j in hashWord:\n",
    "                hashWord[j]+=1\n",
    "            else:\n",
    "                hashWord[j]=1\n",
    "        isPossible=True\n",
    "        for k in hashWord:\n",
    "            if k not in hashArr:\n",
    "                isPossible=False\n",
    "                break\n",
    "            elif hashWord[k]>hashArr[k]:\n",
    "                isPossible=False\n",
    "                break\n",
    "        if isPossible:\n",
    "            print(word)\n",
    "\n",
    "\n",
    "if __name__ == '__main__':\n",
    "    dictionary=[\"go\",\"bat\",\"me\",\"eat\",\"goal\", \"boy\", \"run\"]\n",
    "    arr=['e','o','b', 'a','m','g', 'l']\n",
    "    getWords(dictionary,arr)\n"
   ]
  },
  {
   "cell_type": "markdown",
   "metadata": {},
   "source": [
    "Time Complexity O(n*maxLenWord)"
   ]
  },
  {
   "cell_type": "markdown",
   "metadata": {},
   "source": [
    "Approach-> Insert all the keys in Trie and traverse the trie to check if the words can be formed by the character array. Assuming character elements can repeat"
   ]
  },
  {
   "cell_type": "code",
   "execution_count": 5,
   "metadata": {},
   "outputs": [
    {
     "name": "stdout",
     "output_type": "stream",
     "text": [
      "go\n",
      "goal\n",
      "me\n"
     ]
    }
   ],
   "source": [
    "class TrieNode:\n",
    "    def __init__(self):\n",
    "        self.children=[None]*26\n",
    "        self.isEndOfWord=False\n",
    "\n",
    "class Trie:\n",
    "    def __init__(self):\n",
    "        self.root=self.getTrieNode()\n",
    "\n",
    "    def getTrieNode(self):\n",
    "        return TrieNode()\n",
    "\n",
    "    def getIndex(self,ch):\n",
    "        return ord(ch)-ord('a')\n",
    "\n",
    "    def insert(self,key):\n",
    "        root=self.root\n",
    "        l=len(key)\n",
    "        for i in range(l):\n",
    "            index=self.getIndex(key[i])\n",
    "            if not root.children[index]:\n",
    "                root.children[index]=self.getTrieNode()\n",
    "            root=root.children[index]\n",
    "        root.isEndOfWord=True\n",
    "\n",
    "    def searchWords(self,arr):\n",
    "        hashArr=[False]*26\n",
    "        for i in arr:\n",
    "            hashArr[ord(i)-ord('a')]=True\n",
    "        # print(hashArr)\n",
    "        root=self.root\n",
    "        self.searchWordsUtil(root,hashArr,\"\")\n",
    "\n",
    "    def isLast(self,root):\n",
    "        for i in range(26):\n",
    "            if root.children[i]:\n",
    "                return False\n",
    "        return True\n",
    "\n",
    "    def searchWordsUtil(self,root,hashArr,currPrefix):\n",
    "        if root.isEndOfWord:\n",
    "            print(currPrefix)\n",
    "\n",
    "        if self.isLast(root):\n",
    "            return\n",
    "\n",
    "        for i in range(26):\n",
    "            if root.children[i] and hashArr[i]:\n",
    "                self.searchWordsUtil(root.children[i],hashArr,currPrefix+chr(i+97))\n",
    "\n",
    "if __name__ == '__main__':\n",
    "    trie=Trie()\n",
    "    keys=[\"go\",\"bat\",\"me\",\"eat\",\"goal\", \"boy\", \"run\"]\n",
    "    arr=['e','o','b', 'a','m','g', 'l']\n",
    "    for key in keys:\n",
    "        trie.insert(key)\n",
    "    trie.searchWords(arr)\n"
   ]
  },
  {
   "cell_type": "code",
   "execution_count": null,
   "metadata": {},
   "outputs": [],
   "source": []
  }
 ],
 "metadata": {
  "kernelspec": {
   "display_name": "Python 3",
   "language": "python",
   "name": "python3"
  },
  "language_info": {
   "codemirror_mode": {
    "name": "ipython",
    "version": 3
   },
   "file_extension": ".py",
   "mimetype": "text/x-python",
   "name": "python",
   "nbconvert_exporter": "python",
   "pygments_lexer": "ipython3",
   "version": "3.7.6"
  }
 },
 "nbformat": 4,
 "nbformat_minor": 4
}
